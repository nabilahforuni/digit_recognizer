{
 "cells": [
  {
   "cell_type": "markdown",
   "id": "87059432",
   "metadata": {},
   "source": [
    "# Digit Recognizer with CNN"
   ]
  },
  {
   "cell_type": "markdown",
   "id": "d7c2fddb",
   "metadata": {},
   "source": [
    "## Inroduction\n",
    "\n",
    "For this final project we will be participating in Kaggle's [Digit Recognizer competition](https://www.kaggle.com/competitions/digit-recognizer/overview).\n",
    "\n",
    "This competition offers us to practice our skills on the classic MNIST dataset of handwritten digit images which is a de facto \"Gold standard\" for benchmarking classification algorithms.\n",
    "\n",
    "Our goal is to correctly identify digits from a dataset of tens of thousands of handwritten images. To solve this problem we will build and train a Convolutional Neural Network.\n",
    "\n",
    "GitHub repository for this project can be found at https://github.com/nabilahforuni/digit_recognizer"
   ]
  },
  {
   "cell_type": "markdown",
   "id": "b9a8e841",
   "metadata": {},
   "source": [
    "## Loading data and EDA"
   ]
  },
  {
   "cell_type": "code",
   "execution_count": 1,
   "id": "62eff943",
   "metadata": {
    "_cell_guid": "b1076dfc-b9ad-4769-8c92-a6c4dae69d19",
    "_uuid": "8f2839f25d086af736a60e9eeb907d3b93b6e0e5",
    "execution": {
     "iopub.execute_input": "2024-06-11T07:27:53.276830Z",
     "iopub.status.busy": "2024-06-11T07:27:53.276541Z",
     "iopub.status.idle": "2024-06-11T07:28:07.360589Z",
     "shell.execute_reply": "2024-06-11T07:28:07.359615Z"
    },
    "papermill": {
     "duration": 14.097308,
     "end_time": "2024-06-11T07:28:07.363057",
     "exception": false,
     "start_time": "2024-06-11T07:27:53.265749",
     "status": "completed"
    },
    "tags": []
   },
   "outputs": [
    {
     "name": "stderr",
     "output_type": "stream",
     "text": [
      "2024-06-11 07:27:56.350448: E external/local_xla/xla/stream_executor/cuda/cuda_dnn.cc:9261] Unable to register cuDNN factory: Attempting to register factory for plugin cuDNN when one has already been registered\n",
      "2024-06-11 07:27:56.350542: E external/local_xla/xla/stream_executor/cuda/cuda_fft.cc:607] Unable to register cuFFT factory: Attempting to register factory for plugin cuFFT when one has already been registered\n",
      "2024-06-11 07:27:56.540500: E external/local_xla/xla/stream_executor/cuda/cuda_blas.cc:1515] Unable to register cuBLAS factory: Attempting to register factory for plugin cuBLAS when one has already been registered\n"
     ]
    }
   ],
   "source": [
    "# This Python 3 environment comes with many helpful analytics libraries installed\n",
    "# It is defined by the kaggle/python Docker image: https://github.com/kaggle/docker-python\n",
    "# For example, here's several helpful packages to load\n",
    "\n",
    "import numpy as np # linear algebra\n",
    "import pandas as pd # data processing, CSV file I/O (e.g. pd.read_csv)\n",
    "import tensorflow as tf\n",
    "import matplotlib.pyplot as plt\n",
    "\n",
    "# Input data files are available in the read-only \"../input/\" directory\n",
    "# For example, running this (by clicking run or pressing Shift+Enter) will list all files under the input directory\n",
    "\n",
    "# import os\n",
    "# for dirname, _, filenames in os.walk('/kaggle/input'):\n",
    "#     for filename in filenames:\n",
    "#         print(os.path.join(dirname, filename))\n",
    "\n",
    "# You can write up to 20GB to the current directory (/kaggle/working/) that gets preserved as output when you create a version using \"Save & Run All\" \n",
    "# You can also write temporary files to /kaggle/temp/, but they won't be saved outside of the current session"
   ]
  },
  {
   "cell_type": "code",
   "execution_count": 2,
   "id": "0fe57c7b",
   "metadata": {
    "execution": {
     "iopub.execute_input": "2024-06-11T07:28:07.383073Z",
     "iopub.status.busy": "2024-06-11T07:28:07.382502Z",
     "iopub.status.idle": "2024-06-11T07:28:13.109894Z",
     "shell.execute_reply": "2024-06-11T07:28:13.109017Z"
    },
    "papermill": {
     "duration": 5.739927,
     "end_time": "2024-06-11T07:28:13.112475",
     "exception": false,
     "start_time": "2024-06-11T07:28:07.372548",
     "status": "completed"
    },
    "tags": []
   },
   "outputs": [],
   "source": [
    "train_df = pd.read_csv('/kaggle/input/digit-recognizer/train.csv')\n",
    "test_df = pd.read_csv('/kaggle/input/digit-recognizer/test.csv')\n",
    "submission_df = pd.read_csv('/kaggle/input/digit-recognizer/sample_submission.csv')"
   ]
  },
  {
   "cell_type": "code",
   "execution_count": 3,
   "id": "39831720",
   "metadata": {
    "execution": {
     "iopub.execute_input": "2024-06-11T07:28:13.135863Z",
     "iopub.status.busy": "2024-06-11T07:28:13.135566Z",
     "iopub.status.idle": "2024-06-11T07:28:13.161308Z",
     "shell.execute_reply": "2024-06-11T07:28:13.160299Z"
    },
    "papermill": {
     "duration": 0.039045,
     "end_time": "2024-06-11T07:28:13.163379",
     "exception": false,
     "start_time": "2024-06-11T07:28:13.124334",
     "status": "completed"
    },
    "tags": []
   },
   "outputs": [
    {
     "data": {
      "text/html": [
       "<div>\n",
       "<style scoped>\n",
       "    .dataframe tbody tr th:only-of-type {\n",
       "        vertical-align: middle;\n",
       "    }\n",
       "\n",
       "    .dataframe tbody tr th {\n",
       "        vertical-align: top;\n",
       "    }\n",
       "\n",
       "    .dataframe thead th {\n",
       "        text-align: right;\n",
       "    }\n",
       "</style>\n",
       "<table border=\"1\" class=\"dataframe\">\n",
       "  <thead>\n",
       "    <tr style=\"text-align: right;\">\n",
       "      <th></th>\n",
       "      <th>label</th>\n",
       "      <th>pixel0</th>\n",
       "      <th>pixel1</th>\n",
       "      <th>pixel2</th>\n",
       "      <th>pixel3</th>\n",
       "      <th>pixel4</th>\n",
       "      <th>pixel5</th>\n",
       "      <th>pixel6</th>\n",
       "      <th>pixel7</th>\n",
       "      <th>pixel8</th>\n",
       "      <th>...</th>\n",
       "      <th>pixel774</th>\n",
       "      <th>pixel775</th>\n",
       "      <th>pixel776</th>\n",
       "      <th>pixel777</th>\n",
       "      <th>pixel778</th>\n",
       "      <th>pixel779</th>\n",
       "      <th>pixel780</th>\n",
       "      <th>pixel781</th>\n",
       "      <th>pixel782</th>\n",
       "      <th>pixel783</th>\n",
       "    </tr>\n",
       "  </thead>\n",
       "  <tbody>\n",
       "    <tr>\n",
       "      <th>0</th>\n",
       "      <td>1</td>\n",
       "      <td>0</td>\n",
       "      <td>0</td>\n",
       "      <td>0</td>\n",
       "      <td>0</td>\n",
       "      <td>0</td>\n",
       "      <td>0</td>\n",
       "      <td>0</td>\n",
       "      <td>0</td>\n",
       "      <td>0</td>\n",
       "      <td>...</td>\n",
       "      <td>0</td>\n",
       "      <td>0</td>\n",
       "      <td>0</td>\n",
       "      <td>0</td>\n",
       "      <td>0</td>\n",
       "      <td>0</td>\n",
       "      <td>0</td>\n",
       "      <td>0</td>\n",
       "      <td>0</td>\n",
       "      <td>0</td>\n",
       "    </tr>\n",
       "    <tr>\n",
       "      <th>1</th>\n",
       "      <td>0</td>\n",
       "      <td>0</td>\n",
       "      <td>0</td>\n",
       "      <td>0</td>\n",
       "      <td>0</td>\n",
       "      <td>0</td>\n",
       "      <td>0</td>\n",
       "      <td>0</td>\n",
       "      <td>0</td>\n",
       "      <td>0</td>\n",
       "      <td>...</td>\n",
       "      <td>0</td>\n",
       "      <td>0</td>\n",
       "      <td>0</td>\n",
       "      <td>0</td>\n",
       "      <td>0</td>\n",
       "      <td>0</td>\n",
       "      <td>0</td>\n",
       "      <td>0</td>\n",
       "      <td>0</td>\n",
       "      <td>0</td>\n",
       "    </tr>\n",
       "    <tr>\n",
       "      <th>2</th>\n",
       "      <td>1</td>\n",
       "      <td>0</td>\n",
       "      <td>0</td>\n",
       "      <td>0</td>\n",
       "      <td>0</td>\n",
       "      <td>0</td>\n",
       "      <td>0</td>\n",
       "      <td>0</td>\n",
       "      <td>0</td>\n",
       "      <td>0</td>\n",
       "      <td>...</td>\n",
       "      <td>0</td>\n",
       "      <td>0</td>\n",
       "      <td>0</td>\n",
       "      <td>0</td>\n",
       "      <td>0</td>\n",
       "      <td>0</td>\n",
       "      <td>0</td>\n",
       "      <td>0</td>\n",
       "      <td>0</td>\n",
       "      <td>0</td>\n",
       "    </tr>\n",
       "    <tr>\n",
       "      <th>3</th>\n",
       "      <td>4</td>\n",
       "      <td>0</td>\n",
       "      <td>0</td>\n",
       "      <td>0</td>\n",
       "      <td>0</td>\n",
       "      <td>0</td>\n",
       "      <td>0</td>\n",
       "      <td>0</td>\n",
       "      <td>0</td>\n",
       "      <td>0</td>\n",
       "      <td>...</td>\n",
       "      <td>0</td>\n",
       "      <td>0</td>\n",
       "      <td>0</td>\n",
       "      <td>0</td>\n",
       "      <td>0</td>\n",
       "      <td>0</td>\n",
       "      <td>0</td>\n",
       "      <td>0</td>\n",
       "      <td>0</td>\n",
       "      <td>0</td>\n",
       "    </tr>\n",
       "    <tr>\n",
       "      <th>4</th>\n",
       "      <td>0</td>\n",
       "      <td>0</td>\n",
       "      <td>0</td>\n",
       "      <td>0</td>\n",
       "      <td>0</td>\n",
       "      <td>0</td>\n",
       "      <td>0</td>\n",
       "      <td>0</td>\n",
       "      <td>0</td>\n",
       "      <td>0</td>\n",
       "      <td>...</td>\n",
       "      <td>0</td>\n",
       "      <td>0</td>\n",
       "      <td>0</td>\n",
       "      <td>0</td>\n",
       "      <td>0</td>\n",
       "      <td>0</td>\n",
       "      <td>0</td>\n",
       "      <td>0</td>\n",
       "      <td>0</td>\n",
       "      <td>0</td>\n",
       "    </tr>\n",
       "  </tbody>\n",
       "</table>\n",
       "<p>5 rows × 785 columns</p>\n",
       "</div>"
      ],
      "text/plain": [
       "   label  pixel0  pixel1  pixel2  pixel3  pixel4  pixel5  pixel6  pixel7  \\\n",
       "0      1       0       0       0       0       0       0       0       0   \n",
       "1      0       0       0       0       0       0       0       0       0   \n",
       "2      1       0       0       0       0       0       0       0       0   \n",
       "3      4       0       0       0       0       0       0       0       0   \n",
       "4      0       0       0       0       0       0       0       0       0   \n",
       "\n",
       "   pixel8  ...  pixel774  pixel775  pixel776  pixel777  pixel778  pixel779  \\\n",
       "0       0  ...         0         0         0         0         0         0   \n",
       "1       0  ...         0         0         0         0         0         0   \n",
       "2       0  ...         0         0         0         0         0         0   \n",
       "3       0  ...         0         0         0         0         0         0   \n",
       "4       0  ...         0         0         0         0         0         0   \n",
       "\n",
       "   pixel780  pixel781  pixel782  pixel783  \n",
       "0         0         0         0         0  \n",
       "1         0         0         0         0  \n",
       "2         0         0         0         0  \n",
       "3         0         0         0         0  \n",
       "4         0         0         0         0  \n",
       "\n",
       "[5 rows x 785 columns]"
      ]
     },
     "execution_count": 3,
     "metadata": {},
     "output_type": "execute_result"
    }
   ],
   "source": [
    "train_df.head()"
   ]
  },
  {
   "cell_type": "code",
   "execution_count": 4,
   "id": "caff273d",
   "metadata": {
    "execution": {
     "iopub.execute_input": "2024-06-11T07:28:13.183657Z",
     "iopub.status.busy": "2024-06-11T07:28:13.183097Z",
     "iopub.status.idle": "2024-06-11T07:28:13.199164Z",
     "shell.execute_reply": "2024-06-11T07:28:13.198309Z"
    },
    "papermill": {
     "duration": 0.028465,
     "end_time": "2024-06-11T07:28:13.201376",
     "exception": false,
     "start_time": "2024-06-11T07:28:13.172911",
     "status": "completed"
    },
    "tags": []
   },
   "outputs": [
    {
     "data": {
      "text/html": [
       "<div>\n",
       "<style scoped>\n",
       "    .dataframe tbody tr th:only-of-type {\n",
       "        vertical-align: middle;\n",
       "    }\n",
       "\n",
       "    .dataframe tbody tr th {\n",
       "        vertical-align: top;\n",
       "    }\n",
       "\n",
       "    .dataframe thead th {\n",
       "        text-align: right;\n",
       "    }\n",
       "</style>\n",
       "<table border=\"1\" class=\"dataframe\">\n",
       "  <thead>\n",
       "    <tr style=\"text-align: right;\">\n",
       "      <th></th>\n",
       "      <th>pixel0</th>\n",
       "      <th>pixel1</th>\n",
       "      <th>pixel2</th>\n",
       "      <th>pixel3</th>\n",
       "      <th>pixel4</th>\n",
       "      <th>pixel5</th>\n",
       "      <th>pixel6</th>\n",
       "      <th>pixel7</th>\n",
       "      <th>pixel8</th>\n",
       "      <th>pixel9</th>\n",
       "      <th>...</th>\n",
       "      <th>pixel774</th>\n",
       "      <th>pixel775</th>\n",
       "      <th>pixel776</th>\n",
       "      <th>pixel777</th>\n",
       "      <th>pixel778</th>\n",
       "      <th>pixel779</th>\n",
       "      <th>pixel780</th>\n",
       "      <th>pixel781</th>\n",
       "      <th>pixel782</th>\n",
       "      <th>pixel783</th>\n",
       "    </tr>\n",
       "  </thead>\n",
       "  <tbody>\n",
       "    <tr>\n",
       "      <th>0</th>\n",
       "      <td>0</td>\n",
       "      <td>0</td>\n",
       "      <td>0</td>\n",
       "      <td>0</td>\n",
       "      <td>0</td>\n",
       "      <td>0</td>\n",
       "      <td>0</td>\n",
       "      <td>0</td>\n",
       "      <td>0</td>\n",
       "      <td>0</td>\n",
       "      <td>...</td>\n",
       "      <td>0</td>\n",
       "      <td>0</td>\n",
       "      <td>0</td>\n",
       "      <td>0</td>\n",
       "      <td>0</td>\n",
       "      <td>0</td>\n",
       "      <td>0</td>\n",
       "      <td>0</td>\n",
       "      <td>0</td>\n",
       "      <td>0</td>\n",
       "    </tr>\n",
       "    <tr>\n",
       "      <th>1</th>\n",
       "      <td>0</td>\n",
       "      <td>0</td>\n",
       "      <td>0</td>\n",
       "      <td>0</td>\n",
       "      <td>0</td>\n",
       "      <td>0</td>\n",
       "      <td>0</td>\n",
       "      <td>0</td>\n",
       "      <td>0</td>\n",
       "      <td>0</td>\n",
       "      <td>...</td>\n",
       "      <td>0</td>\n",
       "      <td>0</td>\n",
       "      <td>0</td>\n",
       "      <td>0</td>\n",
       "      <td>0</td>\n",
       "      <td>0</td>\n",
       "      <td>0</td>\n",
       "      <td>0</td>\n",
       "      <td>0</td>\n",
       "      <td>0</td>\n",
       "    </tr>\n",
       "    <tr>\n",
       "      <th>2</th>\n",
       "      <td>0</td>\n",
       "      <td>0</td>\n",
       "      <td>0</td>\n",
       "      <td>0</td>\n",
       "      <td>0</td>\n",
       "      <td>0</td>\n",
       "      <td>0</td>\n",
       "      <td>0</td>\n",
       "      <td>0</td>\n",
       "      <td>0</td>\n",
       "      <td>...</td>\n",
       "      <td>0</td>\n",
       "      <td>0</td>\n",
       "      <td>0</td>\n",
       "      <td>0</td>\n",
       "      <td>0</td>\n",
       "      <td>0</td>\n",
       "      <td>0</td>\n",
       "      <td>0</td>\n",
       "      <td>0</td>\n",
       "      <td>0</td>\n",
       "    </tr>\n",
       "    <tr>\n",
       "      <th>3</th>\n",
       "      <td>0</td>\n",
       "      <td>0</td>\n",
       "      <td>0</td>\n",
       "      <td>0</td>\n",
       "      <td>0</td>\n",
       "      <td>0</td>\n",
       "      <td>0</td>\n",
       "      <td>0</td>\n",
       "      <td>0</td>\n",
       "      <td>0</td>\n",
       "      <td>...</td>\n",
       "      <td>0</td>\n",
       "      <td>0</td>\n",
       "      <td>0</td>\n",
       "      <td>0</td>\n",
       "      <td>0</td>\n",
       "      <td>0</td>\n",
       "      <td>0</td>\n",
       "      <td>0</td>\n",
       "      <td>0</td>\n",
       "      <td>0</td>\n",
       "    </tr>\n",
       "    <tr>\n",
       "      <th>4</th>\n",
       "      <td>0</td>\n",
       "      <td>0</td>\n",
       "      <td>0</td>\n",
       "      <td>0</td>\n",
       "      <td>0</td>\n",
       "      <td>0</td>\n",
       "      <td>0</td>\n",
       "      <td>0</td>\n",
       "      <td>0</td>\n",
       "      <td>0</td>\n",
       "      <td>...</td>\n",
       "      <td>0</td>\n",
       "      <td>0</td>\n",
       "      <td>0</td>\n",
       "      <td>0</td>\n",
       "      <td>0</td>\n",
       "      <td>0</td>\n",
       "      <td>0</td>\n",
       "      <td>0</td>\n",
       "      <td>0</td>\n",
       "      <td>0</td>\n",
       "    </tr>\n",
       "  </tbody>\n",
       "</table>\n",
       "<p>5 rows × 784 columns</p>\n",
       "</div>"
      ],
      "text/plain": [
       "   pixel0  pixel1  pixel2  pixel3  pixel4  pixel5  pixel6  pixel7  pixel8  \\\n",
       "0       0       0       0       0       0       0       0       0       0   \n",
       "1       0       0       0       0       0       0       0       0       0   \n",
       "2       0       0       0       0       0       0       0       0       0   \n",
       "3       0       0       0       0       0       0       0       0       0   \n",
       "4       0       0       0       0       0       0       0       0       0   \n",
       "\n",
       "   pixel9  ...  pixel774  pixel775  pixel776  pixel777  pixel778  pixel779  \\\n",
       "0       0  ...         0         0         0         0         0         0   \n",
       "1       0  ...         0         0         0         0         0         0   \n",
       "2       0  ...         0         0         0         0         0         0   \n",
       "3       0  ...         0         0         0         0         0         0   \n",
       "4       0  ...         0         0         0         0         0         0   \n",
       "\n",
       "   pixel780  pixel781  pixel782  pixel783  \n",
       "0         0         0         0         0  \n",
       "1         0         0         0         0  \n",
       "2         0         0         0         0  \n",
       "3         0         0         0         0  \n",
       "4         0         0         0         0  \n",
       "\n",
       "[5 rows x 784 columns]"
      ]
     },
     "execution_count": 4,
     "metadata": {},
     "output_type": "execute_result"
    }
   ],
   "source": [
    "test_df.head()"
   ]
  },
  {
   "cell_type": "code",
   "execution_count": 5,
   "id": "5b908fe2",
   "metadata": {
    "execution": {
     "iopub.execute_input": "2024-06-11T07:28:13.222567Z",
     "iopub.status.busy": "2024-06-11T07:28:13.222301Z",
     "iopub.status.idle": "2024-06-11T07:28:13.229740Z",
     "shell.execute_reply": "2024-06-11T07:28:13.228898Z"
    },
    "papermill": {
     "duration": 0.019911,
     "end_time": "2024-06-11T07:28:13.231700",
     "exception": false,
     "start_time": "2024-06-11T07:28:13.211789",
     "status": "completed"
    },
    "tags": []
   },
   "outputs": [
    {
     "data": {
      "text/html": [
       "<div>\n",
       "<style scoped>\n",
       "    .dataframe tbody tr th:only-of-type {\n",
       "        vertical-align: middle;\n",
       "    }\n",
       "\n",
       "    .dataframe tbody tr th {\n",
       "        vertical-align: top;\n",
       "    }\n",
       "\n",
       "    .dataframe thead th {\n",
       "        text-align: right;\n",
       "    }\n",
       "</style>\n",
       "<table border=\"1\" class=\"dataframe\">\n",
       "  <thead>\n",
       "    <tr style=\"text-align: right;\">\n",
       "      <th></th>\n",
       "      <th>ImageId</th>\n",
       "      <th>Label</th>\n",
       "    </tr>\n",
       "  </thead>\n",
       "  <tbody>\n",
       "    <tr>\n",
       "      <th>0</th>\n",
       "      <td>1</td>\n",
       "      <td>0</td>\n",
       "    </tr>\n",
       "    <tr>\n",
       "      <th>1</th>\n",
       "      <td>2</td>\n",
       "      <td>0</td>\n",
       "    </tr>\n",
       "    <tr>\n",
       "      <th>2</th>\n",
       "      <td>3</td>\n",
       "      <td>0</td>\n",
       "    </tr>\n",
       "    <tr>\n",
       "      <th>3</th>\n",
       "      <td>4</td>\n",
       "      <td>0</td>\n",
       "    </tr>\n",
       "    <tr>\n",
       "      <th>4</th>\n",
       "      <td>5</td>\n",
       "      <td>0</td>\n",
       "    </tr>\n",
       "  </tbody>\n",
       "</table>\n",
       "</div>"
      ],
      "text/plain": [
       "   ImageId  Label\n",
       "0        1      0\n",
       "1        2      0\n",
       "2        3      0\n",
       "3        4      0\n",
       "4        5      0"
      ]
     },
     "execution_count": 5,
     "metadata": {},
     "output_type": "execute_result"
    }
   ],
   "source": [
    "submission_df.head()"
   ]
  },
  {
   "cell_type": "code",
   "execution_count": 6,
   "id": "15aa2dfd",
   "metadata": {
    "execution": {
     "iopub.execute_input": "2024-06-11T07:28:13.254464Z",
     "iopub.status.busy": "2024-06-11T07:28:13.253761Z",
     "iopub.status.idle": "2024-06-11T07:28:13.303919Z",
     "shell.execute_reply": "2024-06-11T07:28:13.302705Z"
    },
    "papermill": {
     "duration": 0.06388,
     "end_time": "2024-06-11T07:28:13.306008",
     "exception": false,
     "start_time": "2024-06-11T07:28:13.242128",
     "status": "completed"
    },
    "tags": []
   },
   "outputs": [
    {
     "name": "stdout",
     "output_type": "stream",
     "text": [
      "<class 'pandas.core.frame.DataFrame'>\n",
      "RangeIndex: 42000 entries, 0 to 41999\n",
      "Columns: 785 entries, label to pixel783\n",
      "dtypes: int64(785)\n",
      "memory usage: 251.5 MB\n"
     ]
    }
   ],
   "source": [
    "train_df.info()"
   ]
  },
  {
   "cell_type": "code",
   "execution_count": 7,
   "id": "a2a139b9",
   "metadata": {
    "execution": {
     "iopub.execute_input": "2024-06-11T07:28:13.328352Z",
     "iopub.status.busy": "2024-06-11T07:28:13.328098Z",
     "iopub.status.idle": "2024-06-11T07:28:13.365983Z",
     "shell.execute_reply": "2024-06-11T07:28:13.364997Z"
    },
    "papermill": {
     "duration": 0.050444,
     "end_time": "2024-06-11T07:28:13.367948",
     "exception": false,
     "start_time": "2024-06-11T07:28:13.317504",
     "status": "completed"
    },
    "tags": []
   },
   "outputs": [
    {
     "name": "stdout",
     "output_type": "stream",
     "text": [
      "<class 'pandas.core.frame.DataFrame'>\n",
      "RangeIndex: 28000 entries, 0 to 27999\n",
      "Columns: 784 entries, pixel0 to pixel783\n",
      "dtypes: int64(784)\n",
      "memory usage: 167.5 MB\n"
     ]
    }
   ],
   "source": [
    "test_df.info()"
   ]
  },
  {
   "cell_type": "markdown",
   "id": "7b506a8c",
   "metadata": {},
   "source": [
    "As we can see, the training dataset contains 42000 samples with one label column and 784 columns for pixels of 28x28 image. Testing dataset consists of 28000 samples with the same number of columns minus the one with the label, which is our goal to predict."
   ]
  },
  {
   "cell_type": "markdown",
   "id": "8f27cbae",
   "metadata": {},
   "source": [
    "Let's quickly check for any missing data."
   ]
  },
  {
   "cell_type": "code",
   "execution_count": 8,
   "id": "80978465",
   "metadata": {
    "execution": {
     "iopub.execute_input": "2024-06-11T07:28:13.389493Z",
     "iopub.status.busy": "2024-06-11T07:28:13.389238Z",
     "iopub.status.idle": "2024-06-11T07:28:13.402269Z",
     "shell.execute_reply": "2024-06-11T07:28:13.401361Z"
    },
    "papermill": {
     "duration": 0.025673,
     "end_time": "2024-06-11T07:28:13.404367",
     "exception": false,
     "start_time": "2024-06-11T07:28:13.378694",
     "status": "completed"
    },
    "tags": []
   },
   "outputs": [
    {
     "data": {
      "text/plain": [
       "False"
      ]
     },
     "execution_count": 8,
     "metadata": {},
     "output_type": "execute_result"
    }
   ],
   "source": [
    "train_df.isna().any(axis=1).any()"
   ]
  },
  {
   "cell_type": "code",
   "execution_count": 9,
   "id": "8272c1aa",
   "metadata": {
    "execution": {
     "iopub.execute_input": "2024-06-11T07:28:13.425847Z",
     "iopub.status.busy": "2024-06-11T07:28:13.425571Z",
     "iopub.status.idle": "2024-06-11T07:28:13.436674Z",
     "shell.execute_reply": "2024-06-11T07:28:13.435745Z"
    },
    "papermill": {
     "duration": 0.024235,
     "end_time": "2024-06-11T07:28:13.438860",
     "exception": false,
     "start_time": "2024-06-11T07:28:13.414625",
     "status": "completed"
    },
    "tags": []
   },
   "outputs": [
    {
     "data": {
      "text/plain": [
       "False"
      ]
     },
     "execution_count": 9,
     "metadata": {},
     "output_type": "execute_result"
    }
   ],
   "source": [
    "test_df.isna().any(axis=1).any()"
   ]
  },
  {
   "cell_type": "markdown",
   "id": "30afe234",
   "metadata": {},
   "source": [
    "No missing values. Let's see how the data distributed between the labels."
   ]
  },
  {
   "cell_type": "code",
   "execution_count": 10,
   "id": "b3ef9abf",
   "metadata": {
    "execution": {
     "iopub.execute_input": "2024-06-11T07:28:13.460998Z",
     "iopub.status.busy": "2024-06-11T07:28:13.460695Z",
     "iopub.status.idle": "2024-06-11T07:28:13.941795Z",
     "shell.execute_reply": "2024-06-11T07:28:13.940923Z"
    },
    "papermill": {
     "duration": 0.494184,
     "end_time": "2024-06-11T07:28:13.943901",
     "exception": false,
     "start_time": "2024-06-11T07:28:13.449717",
     "status": "completed"
    },
    "tags": []
   },
   "outputs": [
    {
     "data": {
      "text/plain": [
       "<Axes: xlabel='label'>"
      ]
     },
     "execution_count": 10,
     "metadata": {},
     "output_type": "execute_result"
    },
    {
     "data": {
      "image/png": "[encoded data removed]",
      "text/plain": [
       "<Figure size 640x480 with 1 Axes>"
      ]
     },
     "metadata": {},
     "output_type": "display_data"
    }
   ],
   "source": [
    "train_df.label.value_counts().plot.bar(rot=0)"
   ]
  },
  {
   "cell_type": "markdown",
   "id": "912baaa1",
   "metadata": {},
   "source": [
    "Dataset is pretty evenly distributed.\n",
    "\n",
    "Finally, let's take a look at some of the images."
   ]
  },
  {
   "cell_type": "code",
   "execution_count": 11,
   "id": "2a3f5810",
   "metadata": {
    "execution": {
     "iopub.execute_input": "2024-06-11T07:28:13.967049Z",
     "iopub.status.busy": "2024-06-11T07:28:13.966711Z",
     "iopub.status.idle": "2024-06-11T07:28:15.213575Z",
     "shell.execute_reply": "2024-06-11T07:28:15.212683Z"
    },
    "papermill": {
     "duration": 1.260835,
     "end_time": "2024-06-11T07:28:15.215847",
     "exception": false,
     "start_time": "2024-06-11T07:28:13.955012",
     "status": "completed"
    },
    "tags": []
   },
   "outputs": [
    {
     "data": {
      "image/png": "[encoded data removed]",
      "text/plain": [
       "<Figure size 1000x1000 with 25 Axes>"
      ]
     },
     "metadata": {},
     "output_type": "display_data"
    }
   ],
   "source": [
    "plt.figure(figsize=(10, 10))\n",
    "for i, (label, *img) in train_df.sample(25).reset_index(drop=True).iterrows():\n",
    "    plt.subplot(5, 5, i + 1)\n",
    "    plt.xticks([])\n",
    "    plt.yticks([])\n",
    "    img = np.array(img).reshape((28, 28))\n",
    "    plt.imshow(img, cmap='gray')\n",
    "    plt.xlabel(f'Label: {label}')"
   ]
  },
  {
   "cell_type": "markdown",
   "id": "8f466b2e",
   "metadata": {},
   "source": [
    "## Data preprocessing"
   ]
  },
  {
   "cell_type": "code",
   "execution_count": 12,
   "id": "0444552a",
   "metadata": {
    "execution": {
     "iopub.execute_input": "2024-06-11T07:28:15.241102Z",
     "iopub.status.busy": "2024-06-11T07:28:15.240770Z",
     "iopub.status.idle": "2024-06-11T07:28:15.245153Z",
     "shell.execute_reply": "2024-06-11T07:28:15.244267Z"
    },
    "papermill": {
     "duration": 0.019323,
     "end_time": "2024-06-11T07:28:15.247275",
     "exception": false,
     "start_time": "2024-06-11T07:28:15.227952",
     "status": "completed"
    },
    "tags": []
   },
   "outputs": [],
   "source": [
    "AUTOTUNE = tf.data.AUTOTUNE\n",
    "batch_size = 32\n",
    "img_size = (28, 28)"
   ]
  },
  {
   "cell_type": "markdown",
   "id": "a13c58cc",
   "metadata": {},
   "source": [
    "First, separate labels from the image data."
   ]
  },
  {
   "cell_type": "code",
   "execution_count": 13,
   "id": "e68362c3",
   "metadata": {
    "execution": {
     "iopub.execute_input": "2024-06-11T07:28:15.271115Z",
     "iopub.status.busy": "2024-06-11T07:28:15.270798Z",
     "iopub.status.idle": "2024-06-11T07:28:15.355016Z",
     "shell.execute_reply": "2024-06-11T07:28:15.353938Z"
    },
    "papermill": {
     "duration": 0.098612,
     "end_time": "2024-06-11T07:28:15.357090",
     "exception": false,
     "start_time": "2024-06-11T07:28:15.258478",
     "status": "completed"
    },
    "tags": []
   },
   "outputs": [
    {
     "name": "stdout",
     "output_type": "stream",
     "text": [
      "(42000, 784)\n"
     ]
    }
   ],
   "source": [
    "y_train = train_df['label'].to_numpy()\n",
    "x_train = train_df.drop(columns='label').to_numpy()\n",
    "print(x_train.shape)"
   ]
  },
  {
   "cell_type": "markdown",
   "id": "86f7b5b1",
   "metadata": {},
   "source": [
    "Second, reshape image data from a single row to a 28x28 matrix."
   ]
  },
  {
   "cell_type": "code",
   "execution_count": 14,
   "id": "5e577cfe",
   "metadata": {
    "execution": {
     "iopub.execute_input": "2024-06-11T07:28:15.381531Z",
     "iopub.status.busy": "2024-06-11T07:28:15.380817Z",
     "iopub.status.idle": "2024-06-11T07:28:15.386744Z",
     "shell.execute_reply": "2024-06-11T07:28:15.385919Z"
    },
    "papermill": {
     "duration": 0.02013,
     "end_time": "2024-06-11T07:28:15.388800",
     "exception": false,
     "start_time": "2024-06-11T07:28:15.368670",
     "status": "completed"
    },
    "tags": []
   },
   "outputs": [
    {
     "data": {
      "text/plain": [
       "(42000, 28, 28)"
      ]
     },
     "execution_count": 14,
     "metadata": {},
     "output_type": "execute_result"
    }
   ],
   "source": [
    "x_train = x_train.reshape(-1, *img_size)\n",
    "x_train.shape"
   ]
  },
  {
   "cell_type": "markdown",
   "id": "7b360caa",
   "metadata": {},
   "source": [
    "Third, one-hot encode the labels."
   ]
  },
  {
   "cell_type": "code",
   "execution_count": 15,
   "id": "19ecbbba",
   "metadata": {
    "execution": {
     "iopub.execute_input": "2024-06-11T07:28:15.413470Z",
     "iopub.status.busy": "2024-06-11T07:28:15.413169Z",
     "iopub.status.idle": "2024-06-11T07:28:15.451727Z",
     "shell.execute_reply": "2024-06-11T07:28:15.450751Z"
    },
    "papermill": {
     "duration": 0.053005,
     "end_time": "2024-06-11T07:28:15.453650",
     "exception": false,
     "start_time": "2024-06-11T07:28:15.400645",
     "status": "completed"
    },
    "tags": []
   },
   "outputs": [
    {
     "data": {
      "text/plain": [
       "(42000, 10)"
      ]
     },
     "execution_count": 15,
     "metadata": {},
     "output_type": "execute_result"
    }
   ],
   "source": [
    "y_train = tf.keras.utils.to_categorical(y_train)\n",
    "y_train.shape"
   ]
  },
  {
   "cell_type": "markdown",
   "id": "c6c492fa",
   "metadata": {},
   "source": [
    "Now let's create the Tensorflow Dataset object with the prepared data."
   ]
  },
  {
   "cell_type": "code",
   "execution_count": 16,
   "id": "e5df5c04",
   "metadata": {
    "execution": {
     "iopub.execute_input": "2024-06-11T07:28:15.477920Z",
     "iopub.status.busy": "2024-06-11T07:28:15.477583Z",
     "iopub.status.idle": "2024-06-11T07:28:16.978064Z",
     "shell.execute_reply": "2024-06-11T07:28:16.977086Z"
    },
    "papermill": {
     "duration": 1.515146,
     "end_time": "2024-06-11T07:28:16.980349",
     "exception": false,
     "start_time": "2024-06-11T07:28:15.465203",
     "status": "completed"
    },
    "tags": []
   },
   "outputs": [
    {
     "data": {
      "text/plain": [
       "<tf.Tensor: shape=(), dtype=int64, numpy=42000>"
      ]
     },
     "execution_count": 16,
     "metadata": {},
     "output_type": "execute_result"
    }
   ],
   "source": [
    "ds = tf.data.Dataset.from_tensor_slices((x_train, y_train))\n",
    "ds.cardinality()"
   ]
  },
  {
   "cell_type": "markdown",
   "id": "ecab5e79",
   "metadata": {},
   "source": [
    "Split data into trainging and validation sets."
   ]
  },
  {
   "cell_type": "code",
   "execution_count": 17,
   "id": "77e7464a",
   "metadata": {
    "execution": {
     "iopub.execute_input": "2024-06-11T07:28:17.006941Z",
     "iopub.status.busy": "2024-06-11T07:28:17.006634Z",
     "iopub.status.idle": "2024-06-11T07:28:17.012792Z",
     "shell.execute_reply": "2024-06-11T07:28:17.011935Z"
    },
    "papermill": {
     "duration": 0.02215,
     "end_time": "2024-06-11T07:28:17.015153",
     "exception": false,
     "start_time": "2024-06-11T07:28:16.993003",
     "status": "completed"
    },
    "tags": []
   },
   "outputs": [
    {
     "name": "stdout",
     "output_type": "stream",
     "text": [
      "Training set size: 33600\n",
      "Validation set size: 8400\n"
     ]
    }
   ],
   "source": [
    "ds_size = ds.cardinality().numpy()\n",
    "val_size = int(0.2 * ds_size)\n",
    "train_size = ds_size - val_size\n",
    "print(f'Training set size: {train_size}')\n",
    "print(f'Validation set size: {val_size}')"
   ]
  },
  {
   "cell_type": "code",
   "execution_count": 18,
   "id": "e198268b",
   "metadata": {
    "execution": {
     "iopub.execute_input": "2024-06-11T07:28:17.039714Z",
     "iopub.status.busy": "2024-06-11T07:28:17.039447Z",
     "iopub.status.idle": "2024-06-11T07:28:17.050427Z",
     "shell.execute_reply": "2024-06-11T07:28:17.049640Z"
    },
    "papermill": {
     "duration": 0.025234,
     "end_time": "2024-06-11T07:28:17.052350",
     "exception": false,
     "start_time": "2024-06-11T07:28:17.027116",
     "status": "completed"
    },
    "tags": []
   },
   "outputs": [],
   "source": [
    "train_ds = ds.take(train_size)\n",
    "val_ds = ds.skip(train_size)"
   ]
  },
  {
   "cell_type": "markdown",
   "id": "6e589ac0",
   "metadata": {},
   "source": [
    "Configure datasets for performance."
   ]
  },
  {
   "cell_type": "code",
   "execution_count": 19,
   "id": "1c4bda52",
   "metadata": {
    "execution": {
     "iopub.execute_input": "2024-06-11T07:28:17.076881Z",
     "iopub.status.busy": "2024-06-11T07:28:17.076163Z",
     "iopub.status.idle": "2024-06-11T07:28:17.080946Z",
     "shell.execute_reply": "2024-06-11T07:28:17.080093Z"
    },
    "papermill": {
     "duration": 0.018866,
     "end_time": "2024-06-11T07:28:17.082833",
     "exception": false,
     "start_time": "2024-06-11T07:28:17.063967",
     "status": "completed"
    },
    "tags": []
   },
   "outputs": [],
   "source": [
    "def configure_for_performance(ds, shuffle=True):\n",
    "    ds = ds.cache()\n",
    "    if shuffle:\n",
    "        ds = ds.shuffle(buffer_size=1000)\n",
    "    ds = ds.batch(batch_size)\n",
    "    ds = ds.prefetch(buffer_size=AUTOTUNE)\n",
    "    return ds"
   ]
  },
  {
   "cell_type": "code",
   "execution_count": 20,
   "id": "0d2787c4",
   "metadata": {
    "execution": {
     "iopub.execute_input": "2024-06-11T07:28:17.107419Z",
     "iopub.status.busy": "2024-06-11T07:28:17.107163Z",
     "iopub.status.idle": "2024-06-11T07:28:17.126781Z",
     "shell.execute_reply": "2024-06-11T07:28:17.125966Z"
    },
    "papermill": {
     "duration": 0.034299,
     "end_time": "2024-06-11T07:28:17.128832",
     "exception": false,
     "start_time": "2024-06-11T07:28:17.094533",
     "status": "completed"
    },
    "tags": []
   },
   "outputs": [],
   "source": [
    "train_ds = configure_for_performance(train_ds)\n",
    "val_ds = configure_for_performance(val_ds)"
   ]
  },
  {
   "cell_type": "markdown",
   "id": "f36b0bcd",
   "metadata": {},
   "source": [
    "## CNN architecture"
   ]
  },
  {
   "cell_type": "markdown",
   "id": "25cfb5fc",
   "metadata": {},
   "source": [
    "First, prepare the function to plot the training results."
   ]
  },
  {
   "cell_type": "code",
   "execution_count": 21,
   "id": "9243fb3e",
   "metadata": {
    "execution": {
     "iopub.execute_input": "2024-06-11T07:28:17.153625Z",
     "iopub.status.busy": "2024-06-11T07:28:17.153082Z",
     "iopub.status.idle": "2024-06-11T07:28:17.160050Z",
     "shell.execute_reply": "2024-06-11T07:28:17.159196Z"
    },
    "papermill": {
     "duration": 0.021125,
     "end_time": "2024-06-11T07:28:17.161978",
     "exception": false,
     "start_time": "2024-06-11T07:28:17.140853",
     "status": "completed"
    },
    "tags": []
   },
   "outputs": [],
   "source": [
    "def plot_history(history):    \n",
    "    acc = history.history['accuracy']\n",
    "    val_acc = history.history['val_accuracy']\n",
    "\n",
    "    loss = history.history['loss']\n",
    "    val_loss = history.history['val_loss']\n",
    "\n",
    "    epochs_range = range(epochs)\n",
    "\n",
    "    plt.figure(figsize=(16, 4))\n",
    "    \n",
    "    plt.subplot(1, 2, 1)\n",
    "    plt.plot(epochs_range, acc, label='Training Accuracy')\n",
    "    plt.plot(epochs_range, val_acc, label='Validation Accuracy')\n",
    "    plt.legend(loc='lower right')\n",
    "    plt.title('Training and Validation Accuracy')\n",
    "\n",
    "    plt.subplot(1, 2, 2)\n",
    "    plt.plot(epochs_range, loss, label='Training Loss')\n",
    "    plt.plot(epochs_range, val_loss, label='Validation Loss')\n",
    "    plt.legend(loc='lower right')\n",
    "    plt.title('Training and Validation Loss')\n",
    "    plt.show()"
   ]
  },
  {
   "cell_type": "markdown",
   "id": "49951a18",
   "metadata": {},
   "source": [
    "The architecture of our CNN is pretty standard: a stack of convolutional and max pooling layers with additional dropout and batch normalization layers. On top of that we have one fully-connected layer of 128 neurons with ReLU activation function and finally the output layer with 10 neurons and softmax activation.\n",
    "\n",
    "To make this notebook run in a reasonable amount of time, we only provide the final version of the architecture to which we have arrived after iterating through a number of options and choosing the best one."
   ]
  },
  {
   "cell_type": "code",
   "execution_count": 22,
   "id": "6cd5312c",
   "metadata": {
    "execution": {
     "iopub.execute_input": "2024-06-11T07:28:17.186664Z",
     "iopub.status.busy": "2024-06-11T07:28:17.186381Z",
     "iopub.status.idle": "2024-06-11T07:28:17.341046Z",
     "shell.execute_reply": "2024-06-11T07:28:17.340187Z"
    },
    "papermill": {
     "duration": 0.169049,
     "end_time": "2024-06-11T07:28:17.342893",
     "exception": false,
     "start_time": "2024-06-11T07:28:17.173844",
     "status": "completed"
    },
    "tags": []
   },
   "outputs": [
    {
     "data": {
      "text/html": [
       "<pre style=\"white-space:pre;overflow-x:auto;line-height:normal;font-family:Menlo,'DejaVu Sans Mono',consolas,'Courier New',monospace\"><span style=\"font-weight: bold\">Model: \"sequential\"</span>\n",
       "</pre>\n"
      ],
      "text/plain": [
       "\u001b[1mModel: \"sequential\"\u001b[0m\n"
      ]
     },
     "metadata": {},
     "output_type": "display_data"
    },
    {
     "data": {
      "text/html": [
       "<pre style=\"white-space:pre;overflow-x:auto;line-height:normal;font-family:Menlo,'DejaVu Sans Mono',consolas,'Courier New',monospace\">┏━━━━━━━━━━━━━━━━━━━━━━━━━━━━━━━━━┳━━━━━━━━━━━━━━━━━━━━━━━━┳━━━━━━━━━━━━━━━┓\n",
       "┃<span style=\"font-weight: bold\"> Layer (type)                    </span>┃<span style=\"font-weight: bold\"> Output Shape           </span>┃<span style=\"font-weight: bold\">       Param # </span>┃\n",
       "┡━━━━━━━━━━━━━━━━━━━━━━━━━━━━━━━━━╇━━━━━━━━━━━━━━━━━━━━━━━━╇━━━━━━━━━━━━━━━┩\n",
       "│ rescaling (<span style=\"color: #0087ff; text-decoration-color: #0087ff\">Rescaling</span>)           │ (<span style=\"color: #00d7ff; text-decoration-color: #00d7ff\">None</span>, <span style=\"color: #00af00; text-decoration-color: #00af00\">28</span>, <span style=\"color: #00af00; text-decoration-color: #00af00\">28</span>, <span style=\"color: #00af00; text-decoration-color: #00af00\">1</span>)      │             <span style=\"color: #00af00; text-decoration-color: #00af00\">0</span> │\n",
       "├─────────────────────────────────┼────────────────────────┼───────────────┤\n",
       "│ conv2d (<span style=\"color: #0087ff; text-decoration-color: #0087ff\">Conv2D</span>)                 │ (<span style=\"color: #00d7ff; text-decoration-color: #00d7ff\">None</span>, <span style=\"color: #00af00; text-decoration-color: #00af00\">28</span>, <span style=\"color: #00af00; text-decoration-color: #00af00\">28</span>, <span style=\"color: #00af00; text-decoration-color: #00af00\">32</span>)     │           <span style=\"color: #00af00; text-decoration-color: #00af00\">320</span> │\n",
       "├─────────────────────────────────┼────────────────────────┼───────────────┤\n",
       "│ batch_normalization             │ (<span style=\"color: #00d7ff; text-decoration-color: #00d7ff\">None</span>, <span style=\"color: #00af00; text-decoration-color: #00af00\">28</span>, <span style=\"color: #00af00; text-decoration-color: #00af00\">28</span>, <span style=\"color: #00af00; text-decoration-color: #00af00\">32</span>)     │           <span style=\"color: #00af00; text-decoration-color: #00af00\">128</span> │\n",
       "│ (<span style=\"color: #0087ff; text-decoration-color: #0087ff\">BatchNormalization</span>)            │                        │               │\n",
       "├─────────────────────────────────┼────────────────────────┼───────────────┤\n",
       "│ max_pooling2d (<span style=\"color: #0087ff; text-decoration-color: #0087ff\">MaxPooling2D</span>)    │ (<span style=\"color: #00d7ff; text-decoration-color: #00d7ff\">None</span>, <span style=\"color: #00af00; text-decoration-color: #00af00\">14</span>, <span style=\"color: #00af00; text-decoration-color: #00af00\">14</span>, <span style=\"color: #00af00; text-decoration-color: #00af00\">32</span>)     │             <span style=\"color: #00af00; text-decoration-color: #00af00\">0</span> │\n",
       "├─────────────────────────────────┼────────────────────────┼───────────────┤\n",
       "│ dropout (<span style=\"color: #0087ff; text-decoration-color: #0087ff\">Dropout</span>)               │ (<span style=\"color: #00d7ff; text-decoration-color: #00d7ff\">None</span>, <span style=\"color: #00af00; text-decoration-color: #00af00\">14</span>, <span style=\"color: #00af00; text-decoration-color: #00af00\">14</span>, <span style=\"color: #00af00; text-decoration-color: #00af00\">32</span>)     │             <span style=\"color: #00af00; text-decoration-color: #00af00\">0</span> │\n",
       "├─────────────────────────────────┼────────────────────────┼───────────────┤\n",
       "│ conv2d_1 (<span style=\"color: #0087ff; text-decoration-color: #0087ff\">Conv2D</span>)               │ (<span style=\"color: #00d7ff; text-decoration-color: #00d7ff\">None</span>, <span style=\"color: #00af00; text-decoration-color: #00af00\">14</span>, <span style=\"color: #00af00; text-decoration-color: #00af00\">14</span>, <span style=\"color: #00af00; text-decoration-color: #00af00\">32</span>)     │         <span style=\"color: #00af00; text-decoration-color: #00af00\">9,248</span> │\n",
       "├─────────────────────────────────┼────────────────────────┼───────────────┤\n",
       "│ batch_normalization_1           │ (<span style=\"color: #00d7ff; text-decoration-color: #00d7ff\">None</span>, <span style=\"color: #00af00; text-decoration-color: #00af00\">14</span>, <span style=\"color: #00af00; text-decoration-color: #00af00\">14</span>, <span style=\"color: #00af00; text-decoration-color: #00af00\">32</span>)     │           <span style=\"color: #00af00; text-decoration-color: #00af00\">128</span> │\n",
       "│ (<span style=\"color: #0087ff; text-decoration-color: #0087ff\">BatchNormalization</span>)            │                        │               │\n",
       "├─────────────────────────────────┼────────────────────────┼───────────────┤\n",
       "│ max_pooling2d_1 (<span style=\"color: #0087ff; text-decoration-color: #0087ff\">MaxPooling2D</span>)  │ (<span style=\"color: #00d7ff; text-decoration-color: #00d7ff\">None</span>, <span style=\"color: #00af00; text-decoration-color: #00af00\">7</span>, <span style=\"color: #00af00; text-decoration-color: #00af00\">7</span>, <span style=\"color: #00af00; text-decoration-color: #00af00\">32</span>)       │             <span style=\"color: #00af00; text-decoration-color: #00af00\">0</span> │\n",
       "├─────────────────────────────────┼────────────────────────┼───────────────┤\n",
       "│ dropout_1 (<span style=\"color: #0087ff; text-decoration-color: #0087ff\">Dropout</span>)             │ (<span style=\"color: #00d7ff; text-decoration-color: #00d7ff\">None</span>, <span style=\"color: #00af00; text-decoration-color: #00af00\">7</span>, <span style=\"color: #00af00; text-decoration-color: #00af00\">7</span>, <span style=\"color: #00af00; text-decoration-color: #00af00\">32</span>)       │             <span style=\"color: #00af00; text-decoration-color: #00af00\">0</span> │\n",
       "├─────────────────────────────────┼────────────────────────┼───────────────┤\n",
       "│ conv2d_2 (<span style=\"color: #0087ff; text-decoration-color: #0087ff\">Conv2D</span>)               │ (<span style=\"color: #00d7ff; text-decoration-color: #00d7ff\">None</span>, <span style=\"color: #00af00; text-decoration-color: #00af00\">7</span>, <span style=\"color: #00af00; text-decoration-color: #00af00\">7</span>, <span style=\"color: #00af00; text-decoration-color: #00af00\">64</span>)       │        <span style=\"color: #00af00; text-decoration-color: #00af00\">18,496</span> │\n",
       "├─────────────────────────────────┼────────────────────────┼───────────────┤\n",
       "│ batch_normalization_2           │ (<span style=\"color: #00d7ff; text-decoration-color: #00d7ff\">None</span>, <span style=\"color: #00af00; text-decoration-color: #00af00\">7</span>, <span style=\"color: #00af00; text-decoration-color: #00af00\">7</span>, <span style=\"color: #00af00; text-decoration-color: #00af00\">64</span>)       │           <span style=\"color: #00af00; text-decoration-color: #00af00\">256</span> │\n",
       "│ (<span style=\"color: #0087ff; text-decoration-color: #0087ff\">BatchNormalization</span>)            │                        │               │\n",
       "├─────────────────────────────────┼────────────────────────┼───────────────┤\n",
       "│ max_pooling2d_2 (<span style=\"color: #0087ff; text-decoration-color: #0087ff\">MaxPooling2D</span>)  │ (<span style=\"color: #00d7ff; text-decoration-color: #00d7ff\">None</span>, <span style=\"color: #00af00; text-decoration-color: #00af00\">3</span>, <span style=\"color: #00af00; text-decoration-color: #00af00\">3</span>, <span style=\"color: #00af00; text-decoration-color: #00af00\">64</span>)       │             <span style=\"color: #00af00; text-decoration-color: #00af00\">0</span> │\n",
       "├─────────────────────────────────┼────────────────────────┼───────────────┤\n",
       "│ dropout_2 (<span style=\"color: #0087ff; text-decoration-color: #0087ff\">Dropout</span>)             │ (<span style=\"color: #00d7ff; text-decoration-color: #00d7ff\">None</span>, <span style=\"color: #00af00; text-decoration-color: #00af00\">3</span>, <span style=\"color: #00af00; text-decoration-color: #00af00\">3</span>, <span style=\"color: #00af00; text-decoration-color: #00af00\">64</span>)       │             <span style=\"color: #00af00; text-decoration-color: #00af00\">0</span> │\n",
       "├─────────────────────────────────┼────────────────────────┼───────────────┤\n",
       "│ flatten (<span style=\"color: #0087ff; text-decoration-color: #0087ff\">Flatten</span>)               │ (<span style=\"color: #00d7ff; text-decoration-color: #00d7ff\">None</span>, <span style=\"color: #00af00; text-decoration-color: #00af00\">576</span>)            │             <span style=\"color: #00af00; text-decoration-color: #00af00\">0</span> │\n",
       "├─────────────────────────────────┼────────────────────────┼───────────────┤\n",
       "│ dense (<span style=\"color: #0087ff; text-decoration-color: #0087ff\">Dense</span>)                   │ (<span style=\"color: #00d7ff; text-decoration-color: #00d7ff\">None</span>, <span style=\"color: #00af00; text-decoration-color: #00af00\">128</span>)            │        <span style=\"color: #00af00; text-decoration-color: #00af00\">73,856</span> │\n",
       "├─────────────────────────────────┼────────────────────────┼───────────────┤\n",
       "│ dense_1 (<span style=\"color: #0087ff; text-decoration-color: #0087ff\">Dense</span>)                 │ (<span style=\"color: #00d7ff; text-decoration-color: #00d7ff\">None</span>, <span style=\"color: #00af00; text-decoration-color: #00af00\">10</span>)             │         <span style=\"color: #00af00; text-decoration-color: #00af00\">1,290</span> │\n",
       "└─────────────────────────────────┴────────────────────────┴───────────────┘\n",
       "</pre>\n"
      ],
      "text/plain": [
       "┏━━━━━━━━━━━━━━━━━━━━━━━━━━━━━━━━━┳━━━━━━━━━━━━━━━━━━━━━━━━┳━━━━━━━━━━━━━━━┓\n",
       "┃\u001b[1m \u001b[0m\u001b[1mLayer (type)                   \u001b[0m\u001b[1m \u001b[0m┃\u001b[1m \u001b[0m\u001b[1mOutput Shape          \u001b[0m\u001b[1m \u001b[0m┃\u001b[1m \u001b[0m\u001b[1m      Param #\u001b[0m\u001b[1m \u001b[0m┃\n",
       "┡━━━━━━━━━━━━━━━━━━━━━━━━━━━━━━━━━╇━━━━━━━━━━━━━━━━━━━━━━━━╇━━━━━━━━━━━━━━━┩\n",
       "│ rescaling (\u001b[38;5;33mRescaling\u001b[0m)           │ (\u001b[38;5;45mNone\u001b[0m, \u001b[38;5;34m28\u001b[0m, \u001b[38;5;34m28\u001b[0m, \u001b[38;5;34m1\u001b[0m)      │             \u001b[38;5;34m0\u001b[0m │\n",
       "├─────────────────────────────────┼────────────────────────┼───────────────┤\n",
       "│ conv2d (\u001b[38;5;33mConv2D\u001b[0m)                 │ (\u001b[38;5;45mNone\u001b[0m, \u001b[38;5;34m28\u001b[0m, \u001b[38;5;34m28\u001b[0m, \u001b[38;5;34m32\u001b[0m)     │           \u001b[38;5;34m320\u001b[0m │\n",
       "├─────────────────────────────────┼────────────────────────┼───────────────┤\n",
       "│ batch_normalization             │ (\u001b[38;5;45mNone\u001b[0m, \u001b[38;5;34m28\u001b[0m, \u001b[38;5;34m28\u001b[0m, \u001b[38;5;34m32\u001b[0m)     │           \u001b[38;5;34m128\u001b[0m │\n",
       "│ (\u001b[38;5;33mBatchNormalization\u001b[0m)            │                        │               │\n",
       "├─────────────────────────────────┼────────────────────────┼───────────────┤\n",
       "│ max_pooling2d (\u001b[38;5;33mMaxPooling2D\u001b[0m)    │ (\u001b[38;5;45mNone\u001b[0m, \u001b[38;5;34m14\u001b[0m, \u001b[38;5;34m14\u001b[0m, \u001b[38;5;34m32\u001b[0m)     │             \u001b[38;5;34m0\u001b[0m │\n",
       "├─────────────────────────────────┼────────────────────────┼───────────────┤\n",
       "│ dropout (\u001b[38;5;33mDropout\u001b[0m)               │ (\u001b[38;5;45mNone\u001b[0m, \u001b[38;5;34m14\u001b[0m, \u001b[38;5;34m14\u001b[0m, \u001b[38;5;34m32\u001b[0m)     │             \u001b[38;5;34m0\u001b[0m │\n",
       "├─────────────────────────────────┼────────────────────────┼───────────────┤\n",
       "│ conv2d_1 (\u001b[38;5;33mConv2D\u001b[0m)               │ (\u001b[38;5;45mNone\u001b[0m, \u001b[38;5;34m14\u001b[0m, \u001b[38;5;34m14\u001b[0m, \u001b[38;5;34m32\u001b[0m)     │         \u001b[38;5;34m9,248\u001b[0m │\n",
       "├─────────────────────────────────┼────────────────────────┼───────────────┤\n",
       "│ batch_normalization_1           │ (\u001b[38;5;45mNone\u001b[0m, \u001b[38;5;34m14\u001b[0m, \u001b[38;5;34m14\u001b[0m, \u001b[38;5;34m32\u001b[0m)     │           \u001b[38;5;34m128\u001b[0m │\n",
       "│ (\u001b[38;5;33mBatchNormalization\u001b[0m)            │                        │               │\n",
       "├─────────────────────────────────┼────────────────────────┼───────────────┤\n",
       "│ max_pooling2d_1 (\u001b[38;5;33mMaxPooling2D\u001b[0m)  │ (\u001b[38;5;45mNone\u001b[0m, \u001b[38;5;34m7\u001b[0m, \u001b[38;5;34m7\u001b[0m, \u001b[38;5;34m32\u001b[0m)       │             \u001b[38;5;34m0\u001b[0m │\n",
       "├─────────────────────────────────┼────────────────────────┼───────────────┤\n",
       "│ dropout_1 (\u001b[38;5;33mDropout\u001b[0m)             │ (\u001b[38;5;45mNone\u001b[0m, \u001b[38;5;34m7\u001b[0m, \u001b[38;5;34m7\u001b[0m, \u001b[38;5;34m32\u001b[0m)       │             \u001b[38;5;34m0\u001b[0m │\n",
       "├─────────────────────────────────┼────────────────────────┼───────────────┤\n",
       "│ conv2d_2 (\u001b[38;5;33mConv2D\u001b[0m)               │ (\u001b[38;5;45mNone\u001b[0m, \u001b[38;5;34m7\u001b[0m, \u001b[38;5;34m7\u001b[0m, \u001b[38;5;34m64\u001b[0m)       │        \u001b[38;5;34m18,496\u001b[0m │\n",
       "├─────────────────────────────────┼────────────────────────┼───────────────┤\n",
       "│ batch_normalization_2           │ (\u001b[38;5;45mNone\u001b[0m, \u001b[38;5;34m7\u001b[0m, \u001b[38;5;34m7\u001b[0m, \u001b[38;5;34m64\u001b[0m)       │           \u001b[38;5;34m256\u001b[0m │\n",
       "│ (\u001b[38;5;33mBatchNormalization\u001b[0m)            │                        │               │\n",
       "├─────────────────────────────────┼────────────────────────┼───────────────┤\n",
       "│ max_pooling2d_2 (\u001b[38;5;33mMaxPooling2D\u001b[0m)  │ (\u001b[38;5;45mNone\u001b[0m, \u001b[38;5;34m3\u001b[0m, \u001b[38;5;34m3\u001b[0m, \u001b[38;5;34m64\u001b[0m)       │             \u001b[38;5;34m0\u001b[0m │\n",
       "├─────────────────────────────────┼────────────────────────┼───────────────┤\n",
       "│ dropout_2 (\u001b[38;5;33mDropout\u001b[0m)             │ (\u001b[38;5;45mNone\u001b[0m, \u001b[38;5;34m3\u001b[0m, \u001b[38;5;34m3\u001b[0m, \u001b[38;5;34m64\u001b[0m)       │             \u001b[38;5;34m0\u001b[0m │\n",
       "├─────────────────────────────────┼────────────────────────┼───────────────┤\n",
       "│ flatten (\u001b[38;5;33mFlatten\u001b[0m)               │ (\u001b[38;5;45mNone\u001b[0m, \u001b[38;5;34m576\u001b[0m)            │             \u001b[38;5;34m0\u001b[0m │\n",
       "├─────────────────────────────────┼────────────────────────┼───────────────┤\n",
       "│ dense (\u001b[38;5;33mDense\u001b[0m)                   │ (\u001b[38;5;45mNone\u001b[0m, \u001b[38;5;34m128\u001b[0m)            │        \u001b[38;5;34m73,856\u001b[0m │\n",
       "├─────────────────────────────────┼────────────────────────┼───────────────┤\n",
       "│ dense_1 (\u001b[38;5;33mDense\u001b[0m)                 │ (\u001b[38;5;45mNone\u001b[0m, \u001b[38;5;34m10\u001b[0m)             │         \u001b[38;5;34m1,290\u001b[0m │\n",
       "└─────────────────────────────────┴────────────────────────┴───────────────┘\n"
      ]
     },
     "metadata": {},
     "output_type": "display_data"
    },
    {
     "data": {
      "text/html": [
       "<pre style=\"white-space:pre;overflow-x:auto;line-height:normal;font-family:Menlo,'DejaVu Sans Mono',consolas,'Courier New',monospace\"><span style=\"font-weight: bold\"> Total params: </span><span style=\"color: #00af00; text-decoration-color: #00af00\">103,722</span> (405.16 KB)\n",
       "</pre>\n"
      ],
      "text/plain": [
       "\u001b[1m Total params: \u001b[0m\u001b[38;5;34m103,722\u001b[0m (405.16 KB)\n"
      ]
     },
     "metadata": {},
     "output_type": "display_data"
    },
    {
     "data": {
      "text/html": [
       "<pre style=\"white-space:pre;overflow-x:auto;line-height:normal;font-family:Menlo,'DejaVu Sans Mono',consolas,'Courier New',monospace\"><span style=\"font-weight: bold\"> Trainable params: </span><span style=\"color: #00af00; text-decoration-color: #00af00\">103,466</span> (404.16 KB)\n",
       "</pre>\n"
      ],
      "text/plain": [
       "\u001b[1m Trainable params: \u001b[0m\u001b[38;5;34m103,466\u001b[0m (404.16 KB)\n"
      ]
     },
     "metadata": {},
     "output_type": "display_data"
    },
    {
     "data": {
      "text/html": [
       "<pre style=\"white-space:pre;overflow-x:auto;line-height:normal;font-family:Menlo,'DejaVu Sans Mono',consolas,'Courier New',monospace\"><span style=\"font-weight: bold\"> Non-trainable params: </span><span style=\"color: #00af00; text-decoration-color: #00af00\">256</span> (1.00 KB)\n",
       "</pre>\n"
      ],
      "text/plain": [
       "\u001b[1m Non-trainable params: \u001b[0m\u001b[38;5;34m256\u001b[0m (1.00 KB)\n"
      ]
     },
     "metadata": {},
     "output_type": "display_data"
    }
   ],
   "source": [
    "num_classes = 10\n",
    "\n",
    "model = tf.keras.Sequential([\n",
    "    tf.keras.layers.Input(img_size + (1,)),\n",
    "    tf.keras.layers.Rescaling(1./255),\n",
    "    tf.keras.layers.Conv2D(32, 3, activation='relu', padding='same'),\n",
    "    tf.keras.layers.BatchNormalization(),\n",
    "    tf.keras.layers.MaxPooling2D(),\n",
    "    tf.keras.layers.Dropout(0.2),\n",
    "    \n",
    "    tf.keras.layers.Conv2D(32, 3, activation='relu', padding='same'),\n",
    "    tf.keras.layers.BatchNormalization(),\n",
    "    tf.keras.layers.MaxPooling2D(),\n",
    "    tf.keras.layers.Dropout(0.2),\n",
    "    \n",
    "    tf.keras.layers.Conv2D(64, 3, activation='relu', padding='same'),\n",
    "    tf.keras.layers.BatchNormalization(),\n",
    "    tf.keras.layers.MaxPooling2D(),\n",
    "    tf.keras.layers.Dropout(0.2),\n",
    "    \n",
    "    tf.keras.layers.Flatten(),\n",
    "    tf.keras.layers.Dense(128, activation='relu'),\n",
    "    tf.keras.layers.Dense(num_classes, activation='softmax')\n",
    "])\n",
    "\n",
    "model.summary()"
   ]
  },
  {
   "cell_type": "code",
   "execution_count": 23,
   "id": "47307e82",
   "metadata": {
    "execution": {
     "iopub.execute_input": "2024-06-11T07:28:17.370181Z",
     "iopub.status.busy": "2024-06-11T07:28:17.369443Z",
     "iopub.status.idle": "2024-06-11T07:28:17.382024Z",
     "shell.execute_reply": "2024-06-11T07:28:17.381390Z"
    },
    "papermill": {
     "duration": 0.028381,
     "end_time": "2024-06-11T07:28:17.384009",
     "exception": false,
     "start_time": "2024-06-11T07:28:17.355628",
     "status": "completed"
    },
    "tags": []
   },
   "outputs": [],
   "source": [
    "model.compile(\n",
    "    optimizer=tf.keras.optimizers.Adam(learning_rate=1e-3),\n",
    "    loss=tf.keras.losses.CategoricalCrossentropy(),\n",
    "    metrics=['accuracy'])"
   ]
  },
  {
   "cell_type": "code",
   "execution_count": 24,
   "id": "7e9d7331",
   "metadata": {
    "execution": {
     "iopub.execute_input": "2024-06-11T07:28:17.410922Z",
     "iopub.status.busy": "2024-06-11T07:28:17.410592Z",
     "iopub.status.idle": "2024-06-11T07:28:59.916027Z",
     "shell.execute_reply": "2024-06-11T07:28:59.914876Z"
    },
    "papermill": {
     "duration": 42.521458,
     "end_time": "2024-06-11T07:28:59.918161",
     "exception": false,
     "start_time": "2024-06-11T07:28:17.396703",
     "status": "completed"
    },
    "tags": []
   },
   "outputs": [
    {
     "name": "stdout",
     "output_type": "stream",
     "text": [
      "Epoch 1/10\n",
      "\u001b[1m  51/1050\u001b[0m \u001b[37m━━━━━━━━━━━━━━━━━━━━\u001b[0m \u001b[1m3s\u001b[0m 3ms/step - accuracy: 0.3059 - loss: 2.4547"
     ]
    },
    {
     "name": "stderr",
     "output_type": "stream",
     "text": [
      "WARNING: All log messages before absl::InitializeLog() is called are written to STDERR\n",
      "I0000 00:00:1718090908.038161      69 device_compiler.h:186] Compiled cluster using XLA!  This line is logged at most once for the lifetime of the process.\n"
     ]
    },
    {
     "name": "stdout",
     "output_type": "stream",
     "text": [
      "\u001b[1m1050/1050\u001b[0m \u001b[32m━━━━━━━━━━━━━━━━━━━━\u001b[0m\u001b[37m\u001b[0m \u001b[1m16s\u001b[0m 5ms/step - accuracy: 0.8245 - loss: 0.5676 - val_accuracy: 0.9846 - val_loss: 0.0497\n",
      "Epoch 2/10\n",
      "\u001b[1m1050/1050\u001b[0m \u001b[32m━━━━━━━━━━━━━━━━━━━━\u001b[0m\u001b[37m\u001b[0m \u001b[1m3s\u001b[0m 3ms/step - accuracy: 0.9734 - loss: 0.0827 - val_accuracy: 0.9846 - val_loss: 0.0474\n",
      "Epoch 3/10\n",
      "\u001b[1m1050/1050\u001b[0m \u001b[32m━━━━━━━━━━━━━━━━━━━━\u001b[0m\u001b[37m\u001b[0m \u001b[1m3s\u001b[0m 3ms/step - accuracy: 0.9788 - loss: 0.0670 - val_accuracy: 0.9899 - val_loss: 0.0349\n",
      "Epoch 4/10\n",
      "\u001b[1m1050/1050\u001b[0m \u001b[32m━━━━━━━━━━━━━━━━━━━━\u001b[0m\u001b[37m\u001b[0m \u001b[1m3s\u001b[0m 3ms/step - accuracy: 0.9830 - loss: 0.0552 - val_accuracy: 0.9858 - val_loss: 0.0480\n",
      "Epoch 5/10\n",
      "\u001b[1m1050/1050\u001b[0m \u001b[32m━━━━━━━━━━━━━━━━━━━━\u001b[0m\u001b[37m\u001b[0m \u001b[1m3s\u001b[0m 3ms/step - accuracy: 0.9864 - loss: 0.0418 - val_accuracy: 0.9900 - val_loss: 0.0397\n",
      "Epoch 6/10\n",
      "\u001b[1m1050/1050\u001b[0m \u001b[32m━━━━━━━━━━━━━━━━━━━━\u001b[0m\u001b[37m\u001b[0m \u001b[1m3s\u001b[0m 3ms/step - accuracy: 0.9873 - loss: 0.0379 - val_accuracy: 0.9868 - val_loss: 0.0436\n",
      "Epoch 7/10\n",
      "\u001b[1m1050/1050\u001b[0m \u001b[32m━━━━━━━━━━━━━━━━━━━━\u001b[0m\u001b[37m\u001b[0m \u001b[1m3s\u001b[0m 3ms/step - accuracy: 0.9880 - loss: 0.0358 - val_accuracy: 0.9906 - val_loss: 0.0426\n",
      "Epoch 8/10\n",
      "\u001b[1m1050/1050\u001b[0m \u001b[32m━━━━━━━━━━━━━━━━━━━━\u001b[0m\u001b[37m\u001b[0m \u001b[1m3s\u001b[0m 3ms/step - accuracy: 0.9886 - loss: 0.0335 - val_accuracy: 0.9896 - val_loss: 0.0393\n",
      "Epoch 9/10\n",
      "\u001b[1m1050/1050\u001b[0m \u001b[32m━━━━━━━━━━━━━━━━━━━━\u001b[0m\u001b[37m\u001b[0m \u001b[1m3s\u001b[0m 3ms/step - accuracy: 0.9901 - loss: 0.0296 - val_accuracy: 0.9917 - val_loss: 0.0320\n",
      "Epoch 10/10\n",
      "\u001b[1m1050/1050\u001b[0m \u001b[32m━━━━━━━━━━━━━━━━━━━━\u001b[0m\u001b[37m\u001b[0m \u001b[1m3s\u001b[0m 3ms/step - accuracy: 0.9906 - loss: 0.0282 - val_accuracy: 0.9910 - val_loss: 0.0361\n"
     ]
    }
   ],
   "source": [
    "epochs = 10\n",
    "history = model.fit(\n",
    "    train_ds, \n",
    "    validation_data=val_ds,\n",
    "    epochs=epochs\n",
    ")"
   ]
  },
  {
   "cell_type": "code",
   "execution_count": 25,
   "id": "89cc14ca",
   "metadata": {
    "execution": {
     "iopub.execute_input": "2024-06-11T07:29:00.033426Z",
     "iopub.status.busy": "2024-06-11T07:29:00.033110Z",
     "iopub.status.idle": "2024-06-11T07:29:00.456356Z",
     "shell.execute_reply": "2024-06-11T07:29:00.455390Z"
    },
    "papermill": {
     "duration": 0.483899,
     "end_time": "2024-06-11T07:29:00.458647",
     "exception": false,
     "start_time": "2024-06-11T07:28:59.974748",
     "status": "completed"
    },
    "tags": []
   },
   "outputs": [
    {
     "data": {
      "image/png": "[encoded data removed]",
      "text/plain": [
       "<Figure size 1600x400 with 2 Axes>"
      ]
     },
     "metadata": {},
     "output_type": "display_data"
    }
   ],
   "source": [
    "plot_history(history)"
   ]
  },
  {
   "cell_type": "markdown",
   "id": "37883b3e",
   "metadata": {},
   "source": [
    "We get pretty good results with around 99% accuracy (frankly, for this classic task anything less than that should be considered a complete and utter failure when using neural networks).\n",
    "\n",
    "No signs of overfitting either as training and validation accuracy are nearly equal at end of the training process."
   ]
  },
  {
   "cell_type": "markdown",
   "id": "41e96fe0",
   "metadata": {},
   "source": [
    "## Making a submission"
   ]
  },
  {
   "cell_type": "code",
   "execution_count": 26,
   "id": "a19e8010",
   "metadata": {
    "execution": {
     "iopub.execute_input": "2024-06-11T07:29:00.570514Z",
     "iopub.status.busy": "2024-06-11T07:29:00.570214Z",
     "iopub.status.idle": "2024-06-11T07:29:00.646256Z",
     "shell.execute_reply": "2024-06-11T07:29:00.645515Z"
    },
    "papermill": {
     "duration": 0.133549,
     "end_time": "2024-06-11T07:29:00.648336",
     "exception": false,
     "start_time": "2024-06-11T07:29:00.514787",
     "status": "completed"
    },
    "tags": []
   },
   "outputs": [],
   "source": [
    "model.save('/kaggle/working/model.keras')"
   ]
  },
  {
   "cell_type": "code",
   "execution_count": 27,
   "id": "e64e4e87",
   "metadata": {
    "execution": {
     "iopub.execute_input": "2024-06-11T07:29:00.806232Z",
     "iopub.status.busy": "2024-06-11T07:29:00.805274Z",
     "iopub.status.idle": "2024-06-11T07:29:00.811983Z",
     "shell.execute_reply": "2024-06-11T07:29:00.811129Z"
    },
    "papermill": {
     "duration": 0.106435,
     "end_time": "2024-06-11T07:29:00.813897",
     "exception": false,
     "start_time": "2024-06-11T07:29:00.707462",
     "status": "completed"
    },
    "tags": []
   },
   "outputs": [
    {
     "data": {
      "text/plain": [
       "(28000, 28, 28)"
      ]
     },
     "execution_count": 27,
     "metadata": {},
     "output_type": "execute_result"
    }
   ],
   "source": [
    "test = test_df.values.reshape(-1, *img_size)\n",
    "test.shape"
   ]
  },
  {
   "cell_type": "code",
   "execution_count": 28,
   "id": "7c4d20ff",
   "metadata": {
    "execution": {
     "iopub.execute_input": "2024-06-11T07:29:00.924909Z",
     "iopub.status.busy": "2024-06-11T07:29:00.924620Z",
     "iopub.status.idle": "2024-06-11T07:29:01.331299Z",
     "shell.execute_reply": "2024-06-11T07:29:01.330346Z"
    },
    "papermill": {
     "duration": 0.464414,
     "end_time": "2024-06-11T07:29:01.333562",
     "exception": false,
     "start_time": "2024-06-11T07:29:00.869148",
     "status": "completed"
    },
    "tags": []
   },
   "outputs": [
    {
     "data": {
      "text/plain": [
       "<tf.Tensor: shape=(), dtype=int64, numpy=28000>"
      ]
     },
     "execution_count": 28,
     "metadata": {},
     "output_type": "execute_result"
    }
   ],
   "source": [
    "test_ds = tf.data.Dataset.from_tensor_slices(test)\n",
    "test_ds.cardinality()"
   ]
  },
  {
   "cell_type": "code",
   "execution_count": 29,
   "id": "d15e6b90",
   "metadata": {
    "execution": {
     "iopub.execute_input": "2024-06-11T07:29:01.446979Z",
     "iopub.status.busy": "2024-06-11T07:29:01.446145Z",
     "iopub.status.idle": "2024-06-11T07:29:01.455036Z",
     "shell.execute_reply": "2024-06-11T07:29:01.454171Z"
    },
    "papermill": {
     "duration": 0.066624,
     "end_time": "2024-06-11T07:29:01.457043",
     "exception": false,
     "start_time": "2024-06-11T07:29:01.390419",
     "status": "completed"
    },
    "tags": []
   },
   "outputs": [],
   "source": [
    "test_ds = configure_for_performance(test_ds, shuffle=False)"
   ]
  },
  {
   "cell_type": "code",
   "execution_count": 30,
   "id": "936db686",
   "metadata": {
    "execution": {
     "iopub.execute_input": "2024-06-11T07:29:01.568267Z",
     "iopub.status.busy": "2024-06-11T07:29:01.567967Z",
     "iopub.status.idle": "2024-06-11T07:29:03.832023Z",
     "shell.execute_reply": "2024-06-11T07:29:03.831171Z"
    },
    "papermill": {
     "duration": 2.322391,
     "end_time": "2024-06-11T07:29:03.834403",
     "exception": false,
     "start_time": "2024-06-11T07:29:01.512012",
     "status": "completed"
    },
    "tags": []
   },
   "outputs": [
    {
     "name": "stdout",
     "output_type": "stream",
     "text": [
      "\u001b[1m875/875\u001b[0m \u001b[32m━━━━━━━━━━━━━━━━━━━━\u001b[0m\u001b[37m\u001b[0m \u001b[1m2s\u001b[0m 1ms/step\n"
     ]
    }
   ],
   "source": [
    "raw_predictions = model.predict(test_ds)"
   ]
  },
  {
   "cell_type": "code",
   "execution_count": 31,
   "id": "2cdc41c3",
   "metadata": {
    "execution": {
     "iopub.execute_input": "2024-06-11T07:29:03.953461Z",
     "iopub.status.busy": "2024-06-11T07:29:03.952644Z",
     "iopub.status.idle": "2024-06-11T07:29:03.959298Z",
     "shell.execute_reply": "2024-06-11T07:29:03.958418Z"
    },
    "papermill": {
     "duration": 0.067839,
     "end_time": "2024-06-11T07:29:03.961326",
     "exception": false,
     "start_time": "2024-06-11T07:29:03.893487",
     "status": "completed"
    },
    "tags": []
   },
   "outputs": [
    {
     "data": {
      "text/plain": [
       "(28000,)"
      ]
     },
     "execution_count": 31,
     "metadata": {},
     "output_type": "execute_result"
    }
   ],
   "source": [
    "predictions = np.argmax(raw_predictions, axis=1)\n",
    "predictions.shape"
   ]
  },
  {
   "cell_type": "code",
   "execution_count": 32,
   "id": "249e83df",
   "metadata": {
    "execution": {
     "iopub.execute_input": "2024-06-11T07:29:04.086402Z",
     "iopub.status.busy": "2024-06-11T07:29:04.085562Z",
     "iopub.status.idle": "2024-06-11T07:29:04.097887Z",
     "shell.execute_reply": "2024-06-11T07:29:04.096897Z"
    },
    "papermill": {
     "duration": 0.079932,
     "end_time": "2024-06-11T07:29:04.099926",
     "exception": false,
     "start_time": "2024-06-11T07:29:04.019994",
     "status": "completed"
    },
    "tags": []
   },
   "outputs": [
    {
     "data": {
      "text/html": [
       "<div>\n",
       "<style scoped>\n",
       "    .dataframe tbody tr th:only-of-type {\n",
       "        vertical-align: middle;\n",
       "    }\n",
       "\n",
       "    .dataframe tbody tr th {\n",
       "        vertical-align: top;\n",
       "    }\n",
       "\n",
       "    .dataframe thead th {\n",
       "        text-align: right;\n",
       "    }\n",
       "</style>\n",
       "<table border=\"1\" class=\"dataframe\">\n",
       "  <thead>\n",
       "    <tr style=\"text-align: right;\">\n",
       "      <th></th>\n",
       "      <th>ImageId</th>\n",
       "      <th>Label</th>\n",
       "    </tr>\n",
       "  </thead>\n",
       "  <tbody>\n",
       "    <tr>\n",
       "      <th>0</th>\n",
       "      <td>1</td>\n",
       "      <td>2</td>\n",
       "    </tr>\n",
       "    <tr>\n",
       "      <th>1</th>\n",
       "      <td>2</td>\n",
       "      <td>0</td>\n",
       "    </tr>\n",
       "    <tr>\n",
       "      <th>2</th>\n",
       "      <td>3</td>\n",
       "      <td>9</td>\n",
       "    </tr>\n",
       "    <tr>\n",
       "      <th>3</th>\n",
       "      <td>4</td>\n",
       "      <td>0</td>\n",
       "    </tr>\n",
       "    <tr>\n",
       "      <th>4</th>\n",
       "      <td>5</td>\n",
       "      <td>3</td>\n",
       "    </tr>\n",
       "    <tr>\n",
       "      <th>...</th>\n",
       "      <td>...</td>\n",
       "      <td>...</td>\n",
       "    </tr>\n",
       "    <tr>\n",
       "      <th>27995</th>\n",
       "      <td>27996</td>\n",
       "      <td>9</td>\n",
       "    </tr>\n",
       "    <tr>\n",
       "      <th>27996</th>\n",
       "      <td>27997</td>\n",
       "      <td>7</td>\n",
       "    </tr>\n",
       "    <tr>\n",
       "      <th>27997</th>\n",
       "      <td>27998</td>\n",
       "      <td>3</td>\n",
       "    </tr>\n",
       "    <tr>\n",
       "      <th>27998</th>\n",
       "      <td>27999</td>\n",
       "      <td>9</td>\n",
       "    </tr>\n",
       "    <tr>\n",
       "      <th>27999</th>\n",
       "      <td>28000</td>\n",
       "      <td>2</td>\n",
       "    </tr>\n",
       "  </tbody>\n",
       "</table>\n",
       "<p>28000 rows × 2 columns</p>\n",
       "</div>"
      ],
      "text/plain": [
       "       ImageId  Label\n",
       "0            1      2\n",
       "1            2      0\n",
       "2            3      9\n",
       "3            4      0\n",
       "4            5      3\n",
       "...        ...    ...\n",
       "27995    27996      9\n",
       "27996    27997      7\n",
       "27997    27998      3\n",
       "27998    27999      9\n",
       "27999    28000      2\n",
       "\n",
       "[28000 rows x 2 columns]"
      ]
     },
     "execution_count": 32,
     "metadata": {},
     "output_type": "execute_result"
    }
   ],
   "source": [
    "submission_df.Label = predictions\n",
    "submission_df"
   ]
  },
  {
   "cell_type": "code",
   "execution_count": 33,
   "id": "d84ee8b3",
   "metadata": {
    "execution": {
     "iopub.execute_input": "2024-06-11T07:29:04.220405Z",
     "iopub.status.busy": "2024-06-11T07:29:04.219613Z",
     "iopub.status.idle": "2024-06-11T07:29:04.258568Z",
     "shell.execute_reply": "2024-06-11T07:29:04.257642Z"
    },
    "papermill": {
     "duration": 0.101454,
     "end_time": "2024-06-11T07:29:04.260626",
     "exception": false,
     "start_time": "2024-06-11T07:29:04.159172",
     "status": "completed"
    },
    "tags": []
   },
   "outputs": [],
   "source": [
    "submission_df.to_csv('/kaggle/working/submission.csv', index=False)"
   ]
  },
  {
   "cell_type": "markdown",
   "id": "1d5d4435",
   "metadata": {},
   "source": [
    "## Conclusion"
   ]
  },
  {
   "cell_type": "markdown",
   "id": "3094c982",
   "metadata": {},
   "source": [
    "Our submission to the competition received a score of 0.99067.\n",
    "\n",
    "This is a good illustration of why CNNs and deep neural networks in general has taken the world of computer vision by storm."
   ]
  },
  {
   "cell_type": "markdown",
   "id": "cfe68173",
   "metadata": {},
   "source": [
    "## References\n",
    "\n",
    "[1] https://www.tensorflow.org/tutorials/load_data/pandas_dataframe\n",
    "\n",
    "[2] https://www.tensorflow.org/tutorials/load_data/images\n",
    "\n",
    "[3] https://www.tensorflow.org/guide/core/mlp_core\n",
    "\n",
    "[4] https://www.tensorflow.org/tutorials/images/cnn"
   ]
  }
 ],
 "metadata": {
  "kaggle": {
   "accelerator": "nvidiaTeslaT4",
   "dataSources": [
    {
     "databundleVersionId": 861823,
     "sourceId": 3004,
     "sourceType": "competition"
    }
   ],
   "dockerImageVersionId": 30732,
   "isGpuEnabled": true,
   "isInternetEnabled": true,
   "language": "python",
   "sourceType": "notebook"
  },
  "kernelspec": {
   "display_name": "Python 3",
   "language": "python",
   "name": "python3"
  },
  "language_info": {
   "codemirror_mode": {
    "name": "ipython",
    "version": 3
   },
   "file_extension": ".py",
   "mimetype": "text/x-python",
   "name": "python",
   "nbconvert_exporter": "python",
   "pygments_lexer": "ipython3",
   "version": "3.12.3"
  },
  "papermill": {
   "default_parameters": {},
   "duration": 76.317464,
   "end_time": "2024-06-11T07:29:06.570394",
   "environment_variables": {},
   "exception": null,
   "input_path": "__notebook__.ipynb",
   "output_path": "__notebook__.ipynb",
   "parameters": {},
   "start_time": "2024-06-11T07:27:50.252930",
   "version": "2.5.0"
  }
 },
 "nbformat": 4,
 "nbformat_minor": 5
}
